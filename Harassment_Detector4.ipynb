{
  "cells": [
    {
      "cell_type": "code",
      "execution_count": null,
      "id": "acd85d15-7c8d-4bee-9128-2a3b12a587e8",
      "metadata": {
        "id": "acd85d15-7c8d-4bee-9128-2a3b12a587e8"
      },
      "outputs": [],
      "source": [
        "!pip install sudachipy\n",
        "!pip install sudachidict_core\n",
        "!pip install transformers\n",
        "!pip install tf-keras~=2.16\n",
        "!pip install japanize-matplotlib"
      ]
    },
    {
      "cell_type": "code",
      "execution_count": null,
      "id": "c70f454b-2ad8-4ea3-9334-4a9779d3dc47",
      "metadata": {
        "id": "c70f454b-2ad8-4ea3-9334-4a9779d3dc47"
      },
      "outputs": [],
      "source": [
        "from sudachipy import tokenizer\n",
        "from sudachipy import dictionary\n",
        "from transformers import pipeline\n"
      ]
    },
    {
      "cell_type": "code",
      "execution_count": null,
      "id": "09610fb4-df18-495a-b1fd-a5a3967bf489",
      "metadata": {
        "id": "09610fb4-df18-495a-b1fd-a5a3967bf489"
      },
      "outputs": [],
      "source": [
        "# Sudachiインスタンス作成\n",
        "tokenizer_obj = dictionary.Dictionary().create()\n",
        "mode = tokenizer.Tokenizer.SplitMode.C  # 詳細モード"
      ]
    },
    {
      "cell_type": "code",
      "execution_count": null,
      "id": "20bb0cb3-b749-468b-a9a9-dbcc9e4e5a21",
      "metadata": {
        "id": "20bb0cb3-b749-468b-a9a9-dbcc9e4e5a21"
      },
      "outputs": [],
      "source": [
        "# テキスト\n",
        "text = \"あなたの発言は非常に失礼で、受け入れられないものです。\""
      ]
    },
    {
      "cell_type": "code",
      "execution_count": null,
      "id": "d6cfd0cf-6640-407e-98e8-d627abc8be23",
      "metadata": {
        "id": "d6cfd0cf-6640-407e-98e8-d627abc8be23"
      },
      "outputs": [],
      "source": [
        "# SudachiPyで形態素解析\n",
        "tokens = [token.surface() for token in tokenizer_obj.tokenize(text, mode) if token.surface() != \"\"]\n",
        "print(\"形態素解析結果:\", tokens)"
      ]
    },
    {
      "cell_type": "code",
      "execution_count": null,
      "id": "9962260e-1cdd-48c9-af8c-7f40a56d18b4",
      "metadata": {
        "id": "9962260e-1cdd-48c9-af8c-7f40a56d18b4"
      },
      "outputs": [],
      "source": [
        "# 有害性検出モデル\n",
        "toxicity_classifier = pipeline(\"text-classification\", model=\"unitary/toxic-bert\")"
      ]
    },
    {
      "cell_type": "code",
      "execution_count": null,
      "id": "ec3c1cae-40c8-4b88-8c35-b37d7841a263",
      "metadata": {
        "id": "ec3c1cae-40c8-4b88-8c35-b37d7841a263"
      },
      "outputs": [],
      "source": [
        "# 感情分析モデル Harassment Detector 4で感情と有害性の逆相関をプロットするため、rinnaを加えました。\n",
        "sentiment_analyzer = pipeline(\"sentiment-analysis\", model=\"rinna/japanese-roberta-base\")"
      ]
    },
    {
      "cell_type": "code",
      "execution_count": null,
      "id": "fa453a1b-0a1b-432e-bbf3-78502535e929",
      "metadata": {
        "id": "fa453a1b-0a1b-432e-bbf3-78502535e929"
      },
      "outputs": [],
      "source": [
        "# スコアリストの準備\n",
        "toxicity_scores = []\n",
        "sentiment_scores = []"
      ]
    },
    {
      "cell_type": "code",
      "execution_count": null,
      "id": "8bfbbcc0-9a54-45e6-81a9-6636e50081d4",
      "metadata": {
        "id": "8bfbbcc0-9a54-45e6-81a9-6636e50081d4"
      },
      "outputs": [],
      "source": [
        "# 分割された単語ごとに有害性を検出\n",
        "# スコアリストの準備\n",
        "toxicity_scores = []\n",
        "sentiment_scores = []\n",
        "\n",
        "# 分割された単語ごとに有害性と感情を検出\n",
        "for token in tokens:\n",
        "    # 有害性検出\n",
        "    toxicity_result = toxicity_classifier(token)\n",
        "    toxicity_score = toxicity_result[0]['score']\n",
        "    toxicity_scores.append(toxicity_score)\n",
        "\n",
        "    # 感情分析\n",
        "    sentiment_result = sentiment_analyzer(token)\n",
        "    sentiment_score = sentiment_result[0]['score']\n",
        "    sentiment_scores.append(sentiment_score)\n",
        "\n",
        "    print(f\"単語: {token}\")\n",
        "    print(f\"  有害性スコア: {toxicity_score}\")\n",
        "    print(f\"  感情スコア: {sentiment_score}\")"
      ]
    },
    {
      "cell_type": "code",
      "execution_count": null,
      "id": "b9b23699-507f-479f-88c5-daa4875828a6",
      "metadata": {
        "id": "b9b23699-507f-479f-88c5-daa4875828a6"
      },
      "outputs": [],
      "source": [
        "# CSVファイルに書き込み。使いやすいBIにインポートできるようにするため。IBM cognosでの洞察を想定。\n",
        "import pandas as pd\n",
        "\n",
        "# DataFrameの作成\n",
        "results = pd.DataFrame({\n",
        "    \"形態素\": tokens,\n",
        "    \"有害性スコア\": toxicity_scores,\n",
        "    \"感情スコア\": sentiment_scores\n",
        "})\n",
        "\n",
        "# DataFrameの表示\n",
        "print(results)\n",
        "\n",
        "# CSVファイルとして保存\n",
        "results.to_csv(\"text_analysis_results.csv\", index=False, encoding='utf-8')\n",
        "print(\"結果が 'text_analysis_results.csv' に保存されました。\")"
      ]
    },
    {
      "cell_type": "code",
      "execution_count": null,
      "id": "ea8b780c-2cd9-470b-947e-d4acd8bf7a6e",
      "metadata": {
        "id": "ea8b780c-2cd9-470b-947e-d4acd8bf7a6e"
      },
      "outputs": [],
      "source": [
        "#　X軸: 感情スコア　Y軸: 有害性スコア　各点に形態素をラベルとして表示\n",
        "# 感情スコアが低い（上位10個）かつ有害性スコアが高いデータを抽出\n",
        "filtered_data = results.nsmallest(10, '感情スコア').nlargest(10, '有害性スコア')\n",
        "\n",
        "import matplotlib.pyplot as plt\n",
        "import matplotlib\n",
        "import japanize_matplotlib\n",
        "\n",
        "# プロット\n",
        "plt.figure(figsize=(12, 8))\n",
        "plt.scatter(filtered_data['感情スコア'], filtered_data['有害性スコア'], color='red', s=100, alpha=0.7)\n",
        "\n",
        "# 各点にラベルを表示\n",
        "for i, row in filtered_data.iterrows():\n",
        "    plt.text(row['感情スコア'], row['有害性スコア'], row['形態素'], fontsize=9, ha='right')\n",
        "\n",
        "plt.title('感情スコア vs 有害性スコア (形態素表示)', fontsize=14)\n",
        "plt.xlabel('感情スコア', fontsize=12)\n",
        "plt.ylabel('有害性スコア', fontsize=12)\n",
        "plt.grid(alpha=0.3)\n",
        "plt.show()"
      ]
    },
    {
      "cell_type": "code",
      "execution_count": null,
      "id": "1bafe03a-bbdf-4e5b-9c23-183ab9d1dd01",
      "metadata": {
        "id": "1bafe03a-bbdf-4e5b-9c23-183ab9d1dd01"
      },
      "outputs": [],
      "source": [
        "import seaborn as sns\n",
        "\n",
        "# 上位スコアに基づくデータ抽出\n",
        "top_data = filtered_data.sort_values(by='有害性スコア', ascending=False)\n",
        "\n",
        "# プロット\n",
        "plt.figure(figsize=(14, 8))\n",
        "sns.barplot(x='形態素', y='有害性スコア', data=top_data, palette='Reds', label='有害性スコア')\n",
        "sns.barplot(x='形態素', y='感情スコア', data=top_data, palette='Blues', label='感情スコア')\n",
        "\n",
        "# グラフの装飾\n",
        "plt.title('形態素ごとの有害性スコアと感情スコア', fontsize=14)\n",
        "plt.xlabel('形態素', fontsize=12)\n",
        "plt.ylabel('スコア', fontsize=12)\n",
        "plt.xticks(rotation=45)\n",
        "plt.legend()\n",
        "plt.grid(alpha=0.3)\n",
        "plt.show()"
      ]
    },
    {
      "cell_type": "code",
      "execution_count": null,
      "id": "4f5e04e1-3ed5-442b-bca6-e53c197826cb",
      "metadata": {
        "id": "4f5e04e1-3ed5-442b-bca6-e53c197826cb"
      },
      "outputs": [],
      "source": [
        "# バブルサイズを計算\n",
        "filtered_data['bubble_size'] = filtered_data['感情スコア'] + filtered_data['有害性スコア']\n",
        "\n",
        "# プロット\n",
        "plt.figure(figsize=(12, 8))\n",
        "plt.scatter(\n",
        "    filtered_data['感情スコア'],\n",
        "    filtered_data['有害性スコア'],\n",
        "    s=filtered_data['bubble_size'] * 1000,  # バブルサイズを調整\n",
        "    alpha=0.5,\n",
        "    color='purple'\n",
        ")\n",
        "\n",
        "# ラベルを追加\n",
        "for i, row in filtered_data.iterrows():\n",
        "    plt.text(row['感情スコア'], row['有害性スコア'], row['形態素'], fontsize=9, ha='right')\n",
        "\n",
        "plt.title('感情スコア vs 有害性スコア (バブルチャート)', fontsize=14)\n",
        "plt.xlabel('感情スコア', fontsize=12)\n",
        "plt.ylabel('有害性スコア', fontsize=12)\n",
        "plt.grid(alpha=0.3)\n",
        "plt.show()"
      ]
    },
    {
      "cell_type": "code",
      "execution_count": null,
      "id": "601e45d5-ba38-4a1f-980a-fc443ceeba09",
      "metadata": {
        "id": "601e45d5-ba38-4a1f-980a-fc443ceeba09"
      },
      "outputs": [],
      "source": []
    }
  ],
  "metadata": {
    "kernelspec": {
      "display_name": "Python 3 (ipykernel)",
      "language": "python",
      "name": "python3"
    },
    "language_info": {
      "codemirror_mode": {
        "name": "ipython",
        "version": 3
      },
      "file_extension": ".py",
      "mimetype": "text/x-python",
      "name": "python",
      "nbconvert_exporter": "python",
      "pygments_lexer": "ipython3",
      "version": "3.12.2"
    },
    "colab": {
      "provenance": []
    }
  },
  "nbformat": 4,
  "nbformat_minor": 5
}